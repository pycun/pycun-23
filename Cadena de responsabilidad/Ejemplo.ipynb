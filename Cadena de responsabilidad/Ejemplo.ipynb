{
 "cells": [
  {
   "cell_type": "markdown",
   "id": "6600b60c-2eb5-43bd-b858-bec7dff41e54",
   "metadata": {},
   "source": [
    "Creamos la clase manejadora "
   ]
  },
  {
   "cell_type": "code",
   "execution_count": 1,
   "id": "d2162dad-3257-4ec2-9c2d-9b05483deb6b",
   "metadata": {},
   "outputs": [],
   "source": [
    "class Handler:\n",
    "    def __init__(self, successor=None):\n",
    "        self.successor = successor\n",
    "\n",
    "    def handle_request(self, request):\n",
    "        if self.successor:\n",
    "            return self.successor.handle_request(request)\n",
    "        else:\n",
    "            return \"Nadie puede manejar esta solicitud.\""
   ]
  },
  {
   "cell_type": "markdown",
   "id": "c180db19-1abc-4c7d-91e9-0494af434380",
   "metadata": {},
   "source": [
    "Creamos los manejadores concretos"
   ]
  },
  {
   "cell_type": "code",
   "execution_count": 2,
   "id": "210b11a0-cbeb-4fdd-8bb9-2d1aa9ced282",
   "metadata": {},
   "outputs": [],
   "source": [
    "class Director(Handler):\n",
    "    def handle_request(self, request):\n",
    "        if request.amount < 10000:\n",
    "            return f\"La solicitud de compra de {request.amount}$ fue aprobada por el Director.\"\n",
    "        else:\n",
    "            return super().handle_request(request)\n",
    "\n",
    "\n",
    "class Gerente(Handler):\n",
    "    def handle_request(self, request):\n",
    "        if request.amount < 50000:\n",
    "            return f\"La solicitud de compra de {request.amount}$ fue aprobada por el Gerente.\"\n",
    "        else:\n",
    "            return super().handle_request(request)\n",
    "\n",
    "\n",
    "class CEO(Handler):\n",
    "    def handle_request(self, request):\n",
    "        if request.amount < 100000:\n",
    "            return f\"La solicitud de compra de {request.amount}$ fue aprobada por el CEO.\"\n",
    "        else:\n",
    "            return super().handle_request(request)"
   ]
  },
  {
   "cell_type": "markdown",
   "id": "5b2b40d3-95d4-4cc7-a419-d8dad9c1c194",
   "metadata": {},
   "source": [
    "Creamos la peticion"
   ]
  },
  {
   "cell_type": "code",
   "execution_count": 3,
   "id": "e81942b9-c8f0-4eaf-84a1-c6930924a309",
   "metadata": {},
   "outputs": [],
   "source": [
    "class PurchaseRequest:\n",
    "    def __init__(self, amount):\n",
    "        self.amount = amount"
   ]
  },
  {
   "cell_type": "markdown",
   "id": "c39e84a9-9ebd-4fdc-9a9b-6bf0902203e7",
   "metadata": {},
   "source": [
    "Creamos las instancias"
   ]
  },
  {
   "cell_type": "code",
   "execution_count": 4,
   "id": "1fac3517-7723-4ebc-b9d3-4c9ff21916ae",
   "metadata": {},
   "outputs": [],
   "source": [
    "director = Director()\n",
    "gerente = Gerente()\n",
    "ceo = CEO()\n"
   ]
  },
  {
   "cell_type": "markdown",
   "id": "8d8c6cf0-d9af-4ef3-8924-207700e90bb1",
   "metadata": {},
   "source": [
    "Definimos el siguiente elemento de la cadena"
   ]
  },
  {
   "cell_type": "code",
   "execution_count": 5,
   "id": "829d1463-623b-44ac-b3ab-e5e7d2389377",
   "metadata": {},
   "outputs": [],
   "source": [
    "director.successor = gerente\n",
    "gerente.successor = ceo"
   ]
  },
  {
   "cell_type": "markdown",
   "id": "e4f29883-69b7-45bd-bb89-3550c68ec0c9",
   "metadata": {},
   "source": [
    "Definimos las solicitudes"
   ]
  },
  {
   "cell_type": "code",
   "execution_count": 6,
   "id": "7067e6e5-170d-484a-b4f6-642303f7d3c5",
   "metadata": {},
   "outputs": [],
   "source": [
    "request1 = PurchaseRequest(5000)\n",
    "request2 = PurchaseRequest(35000)\n",
    "request3 = PurchaseRequest(150000)"
   ]
  },
  {
   "cell_type": "markdown",
   "id": "a32d5fe0-02a2-40cf-891e-0cebd4f88ea6",
   "metadata": {},
   "source": [
    "Ejecucion"
   ]
  },
  {
   "cell_type": "code",
   "execution_count": 7,
   "id": "c217766c-f330-4e16-97ab-aa32eac2e8d4",
   "metadata": {},
   "outputs": [
    {
     "name": "stdout",
     "output_type": "stream",
     "text": [
      "La solicitud de compra de 5000$ fue aprobada por el Director.\n"
     ]
    }
   ],
   "source": [
    "print(director.handle_request(request1))"
   ]
  },
  {
   "cell_type": "code",
   "execution_count": 8,
   "id": "67f65548-7b3d-453d-bc6f-071246dace8e",
   "metadata": {},
   "outputs": [
    {
     "name": "stdout",
     "output_type": "stream",
     "text": [
      "La solicitud de compra de 35000$ fue aprobada por el Gerente.\n"
     ]
    }
   ],
   "source": [
    "print(director.handle_request(request2))"
   ]
  },
  {
   "cell_type": "code",
   "execution_count": 9,
   "id": "908adb43-2252-4fc3-b09b-fd10e43512eb",
   "metadata": {},
   "outputs": [
    {
     "name": "stdout",
     "output_type": "stream",
     "text": [
      "Nadie puede manejar esta solicitud.\n"
     ]
    }
   ],
   "source": [
    "print(director.handle_request(request3))"
   ]
  },
  {
   "cell_type": "code",
   "execution_count": null,
   "id": "b9ba1d23-fe91-4a04-89d6-3e918511435a",
   "metadata": {},
   "outputs": [],
   "source": []
  }
 ],
 "metadata": {
  "kernelspec": {
   "display_name": "Python 3 (ipykernel)",
   "language": "python",
   "name": "python3"
  },
  "language_info": {
   "codemirror_mode": {
    "name": "ipython",
    "version": 3
   },
   "file_extension": ".py",
   "mimetype": "text/x-python",
   "name": "python",
   "nbconvert_exporter": "python",
   "pygments_lexer": "ipython3",
   "version": "3.8.10"
  }
 },
 "nbformat": 4,
 "nbformat_minor": 5
}
